{
 "cells": [
  {
   "cell_type": "code",
   "execution_count": 2,
   "metadata": {
    "collapsed": true
   },
   "outputs": [],
   "source": [
    "import pickle\n",
    "from collections import Counter\n",
    "from sklearn.feature_extraction.text import CountVectorizer"
   ]
  },
  {
   "cell_type": "code",
   "execution_count": 3,
   "metadata": {},
   "outputs": [],
   "source": [
    "fileObject = open(\"pdfs_decrypted/DL350e.cleanData\",'rb')\n",
    "b = pickle.load(fileObject)  "
   ]
  },
  {
   "cell_type": "code",
   "execution_count": 11,
   "metadata": {},
   "outputs": [
    {
     "name": "stdout",
     "output_type": "stream",
     "text": [
      "{'Libyan Arab Jamahiriya': ('SITUATION No locusts were seen during surveys carried out  at the end of November in the southwest near Ghat  (2459N/1011E) and in the southeast near Kufra  (2411N/2315E).', 'FORECAST There is a low risk that scattered adults and   perhaps a few small groups could appear in the  southeast near Jebel Uweinat from northern Sudan.'), 'Afghanistan': ('SITUATION No reports received.', 'FORECAST No significant developments are likely.  Announcements  Locust reporting. During recession periods,   countries should report at least once/month and send  RAMSES data with a brief interpretation. During  caution (yellow) periods, locust outbreaks, upsurges  and plagues, RAMSES output files with a brief  interpretation should be sent twice/week within 48  hours of the last survey. Affected countries are also  encouraged to prepare decadal bulletins summarizing  page 6 of   9  the situation. All information should be sent by e-mail  to the FAO/ECLO Desert Locust Information Service  (eclo@fao.org). Information received by the end of  the month will be included in the FAO Desert Locust  Bulletin for the current month; otherwise, it will not  appear until the following month. Reports should be  sent even if no locusts were found or if no surveys  were conducted.  eLocust2. FAO has developed a new version   of eLocust in collaboration with affected countries  and the French Space Agency (CNES/Novacom)  that allows field officers to enter survey and control  data directly in the field and transmit it in real time  via satellite to their national locust centre. Data  can also be downloaded to a PC and visualized on  GoogleEarth. The software is in both English and  French. FAO DLIS has distributed units to nearly all of  the frontline countries. Photos and more information  are available at: www.fao.org/ag/locusts/en/activ/DLIS/ index.html  Desert Locust warning levels. A colour-coded   scheme indicates the seriousness of the current  Desert Locust situation: green for calm, yellow for  caution, orange for threat and red for danger. The  scheme is applied to the Locust Watch web page and  to the monthly bulletin'), 'Eritrea': ('SITUATION During November, isolated adults were laying eggs   on the northern Red Sea coast between Mehimet  (1723N/3833E) and Karora (1745N/3820E) during the  first and last weeks of the month.  a few places along the northwest coast near Bulhar  (1023N/4425E) and Berbera (1028N/4502E). A 6 km2  medium density mature swarm was reported just east  of Berbera on the 24th. No locusts were seen on the  plateau between Hargeisa (0931N/4402E) and Burao  (0931N/4533E).  No locusts were seen during surveys carried out in   In the centre and south, medium and high density   the western lowlands.', 'FORECAST Small-scale hatching will take place and locust   numbers will increase slightly on the Red Sea coast  between Mehimet and Karora. Breeding could  also extend to other areas along the coast towards  Massawa if rainfall occurs.'), 'Sudan': ('SITUATION In the summer breeding areas, groups of immature   and mature solitarious, transiens and gregarious  adults formed at densities up to 30,000 adults/ha in  North Kordofan State between Sodiri (1423N/2906E),  Wadi Milk and the Baiyuda Desert. Similar groups  and a few dozen low-density swarms up to 5 km2  in size formed on the western side of the Red Sea  Hills near Haiya (1820N/3621E) and to a lesser  extent along the Atbara and Nile rivers. Groups and  bands of late instar hoppers and \\xef\\xac\\x82 edglings were  present in a few places in the Baiyuda Desert south  of Merowe (1830N/3149E), and mature adults were  seen laying further north along the Nile near Dongola  (1910N/3027E). During the third week, some of these  swarms moved east to the Tokar Delta on the Red  Sea coast where they were copulating, while other  swarms moved northwest to the Egyptian border at  Wadi Halfa (2147N/3122E) and northeast to Wadi Oko  near Tomala (2002N/3551E).  In the winter breeding areas, numerous very small   late instar hopper bands were present and \\xef\\xac\\x82 edging  near the Egyptian border in Wadi Diib, giving rise to  a few a small swarms by the third week. Groups of  mature adults were also present nearby, and adults  were seen on the coast north of Port Sudan. Breeding  continued in the Tokar Delta where groups of mature       adults were present and hoppers formed small groups  and bands. A low-density swarm was seen laying on  the 19th.  Ground control teams treated 28,446 ha up to   23 November. Although it was indicated in Bulletin  349 that Metarhizium was used in October, this was  incorrect.Forecast Locust numbers will decline in the summer breeding   areas of the interior as vegetation dries out and the  remaining populations form small groups and swarms  that will move in December towards the Red Sea  coast. Consequently, locust numbers will increase on  the coast, mainly in Tokar Delta, and in subcoastal  areas in the north (W. Oko/Diib). Breeding will  continue in these areas where hoppers and adults will  form small groups, bands and perhaps a few swarms.  the second week of November and numerous dense,  small early instar hopper bands formed north of the  Shebele River in Korahe and Warder zones. A few  late instar bands were seen in third week from earlier  hatching. Many of the infestations were concentrated  between Warder (0658N/4520E) and the Somali  border.  Control operations treated 1,707 ha from 9-23  November of which 1,400 ha were treated by air.', ''), 'Ethiopia': ('SITUATION On 31 October, second and third instar hopper   bands were present at 7 places in the eastern  Ogaden, east of Warder (0658N/4520E). Ground  control operations were undertaken at four of these  places, treating 40 ha.  During November, several mature swarms   continued to move south in the Ogaden and laid eggs,  reaching the Shebele River at Gode (0557N/4333E)  on the 9th, Dolo (0410N/4203E) on the 16th and  crossing the Dawa River into northeast Kenya on the  18th. There were also reports of a few swarms further  west along the eastern side of the Harar Highlands.  Eggs that were laid in October mainly hatched during  page 4 of   9  groups of solitarious and transiens late instar hoppers  were seen during the second week east of Garowe  (0824N/4828E) and near Galkayo (0646N/4725E).  A small low-density mature swarm was seen further  south near the Ethiopian border at Belet Weyne  (0444N/4512E). In the following week, there was an  unconfirmed report of locusts in the southern regions  of Bay and Bakool, and a swarm was seen on the  20th moving from Qansahdere (0252N/4300E) west  towards the Gedo region and the Kenyan border.', 'FORECAST Egg laying may occur on the northwest coast near   Berbera that could give rise to a few small hopper  groups and bands by the end of the forecast period.  Some swarms may have laid eggs in parts of the  centre and south that could result in hatching and  band formation during December.'), 'Somalia': ('.SITUATION During November, isolated adults were laying eggs   on the northern Red Sea coast between Mehimet  (1723N/3833E) and Karora (1745N/3820E) during the  first and last weeks of the month.  a few places along the northwest coast near Bulhar  (1023N/4425E) and Berbera (1028N/4502E). A 6 km2  medium density mature swarm was reported just east  of Berbera on the 24th. No locusts were seen on the  plateau between Hargeisa (0931N/4402E) and Burao  (0931N/4533E).  No locusts were seen during surveys carried out in   In the centre and south, medium and high density   the western lowlands.', ''), 'Saudi Arabia': ('SITUATION No reports were received during November.', 'FORECAST Small-scale breeding is likely to be in progress   along parts of the Red Sea coast, especially in areas  of recent rainfall, and will extend to those areas where   rains fall during the forecast period, causing locust  numbers to increase slightly.'), 'Iran': ('SITUATION During November, low numbers of solitarious   immature and mature adults were present on the  southeastern coast near Chabahar (2517N/6036E),  and isolated hoppers of all instars were seen at a few  places nearby. No locusts were seen elsewhere along  the coast near Jask (2540N/5746E) and Bander-e  Lengheh (2634N/5452E).', 'FORECAST Low numbers of locusts are likely to persist on the   southeastern coast.    '), 'Algeria': ('SITUATION No reports were received during November.', 'FORECAST Low numbers of locusts may be present in the south   near Tamanrasset and Bir Bou Mokhtar but breeding  is unlikely unless additional rainfall occurs.'), 'Senegal': ('SITUATION No surveys were carried out and no locusts were   reported during November.', 'FORECAST No significant developments are likely.'), 'Mauritania': ('SITUATION During November, locust numbers increased   steadily because of small-scale breeding and  hatching in northern Brakna, northeastern Trarza,  Tagant and southwestern Adrar where scattered  solitarious hoppers and adults were present. By the  20th, densities had reached up to 3,000 hoppers/ ha and 3,500 adults/ha and, in a few places, up to  four late instar hoppers/bush and one first instar  hopper/m2 were seen. Laying was also in progress in  southwestern Adrar. No locusts were seen in Hodh  Ech Chargui except for scattered mature adults at one  place east of Nema (1636N/0715W).', 'FORECAST Small-scale breeding will continue in the centre and  northwest, causing locust numbers to increase further  with a possibility that a few small groups could form.'), 'Oman': ('SITUATION No locusts were seen during surveys carried out on   the Musandam Peninsula during November.', 'FORECAST No significant developments are likely.'), 'Mali': ('SITUATION During November, isolated solitarious locusts were  reported on the 16th in the central part of the Adrar des  Iforas near Etambar (1827N/0124E).', 'FORECAST Isolated locusts are expected to persist in those   areas that remain green in the Adrar des Iforas.'), 'Yemen': ('SITUATION During November, low numbers of scattered   solitarious and transiens immature and mature adults  persisted along the Red Sea coastal plains between  Zabid (1410N/4318E) and Midi (1619N/4248E) and  on the coastal plains west of Aden (1250N/4503E).  Small-scale breeding occurred in both areas where  isolated solitarious and transiens hoppers were  present. Hopper densities were slightly higher, up to  4 hoppers/m2, on the Gulf of Aden coast near Lahij  (1303N/4453E).', 'FORECAST Small-scale breeding is expected to continue along  the Red Sea and Gulf of Aden coastal plains, causing  locust numbers to increase slightly.'), 'Pakistan': ('SITUATION A late report indicated that ground control   operations were carried out in the spring breeding  areas in Baluchistan against 700 ha of fifth instar  hoppers, \\xef\\xac\\x82 edglings and immature adults near  Kharan (2832N/6526E) on 26-31 October. Two small  immature swarms were treated on 2 and 6 November,  covering 250 ha.  In the summer breeding areas, locust numbers   continued to decline during the first half of November  in the Cholistan Desert, and only isolated mature  adults remained near the Indian border southeast  of Rahimyar Khan (2822N/7020E) and Bahawalpur  (2924N/7147E).  No locusts were reported during the second half of   November.', 'FORECAST Locusts will continue to decline in Cholistan but  small residual populations may be present in the  Kharan area in Baluchistan.'), 'Chad': ('SITUATION No reports were received during November.', 'FORECAST Small-scale breeding is expected to have occurred   in the Fada area during November. During the  forecast period, scattered adults may concentrate and  could form small groups as vegetation continues to  dry out in the northeast.'), 'Egypt': ('SITUATION During the last week of October, moderate densities   of solitarious adults were present in the southwest  near Jebel Uweinat (2154N/2458E).  During the first half of November, small-scale   breeding occurred in Wadi Diib near the Red Sea  coast and the Sudanese border where solitarious first  to fourth instar hoppers were seen early in the month.  Scattered immature and mature adults were present  on the Red Sea coastal plains near Abu Ramad  (2224N/3624E), in the Red Sea Hills near W. Allaqi  and along the Lake Nasser shoreline between Abu  Simbel (2219N/3138E) and Aswan (2405N/3256E).  Some of the adults were transiens and forming small  groups.   During the second half of the month, solitarious  and transiens adults appeared further north on the  Red Sea coast near Berenice (2359N/3524E), in the  Red Sea Hills west of Marsa Alam (2504N/3454E)  and there was a report of immature transiens adults  in Cairo. Adults were also seen in the Western Desert  north of Tushka (2247N/3126E), and mature groups  were present at Farafra oasis (2710N/2818E). Control  operations were carried out in most of these areas,  treating 168 ha up to the 26th. At the end of the  month, there was an unconfirmed report of gregarious  immature adults in the southwest near Jebel Uweinat.', 'FORECAST Small-scale breeding is likely to continue in the  southeast on the coastal plains near Abu Ramad  and extend along the coast towards Marsa Alam and  inland towards Lake Nasser if rains fall in these areas.'), 'India': ('SITUATION No locusts were seen during surveys carried out  in Rajasthan and Gujarat during the second half of  October and in November.', 'FORECAST No significant developments are likely.'), 'Tunisia': ('SITUATION No surveys were carried out and no locusts were   reported during November.', 'FORECAST No significant developments are likely.'), 'Djibouti': ('SITUATION No reports were received during November.', 'FORECAST No significant developments are likely.'), 'Kenya': ('SITUATION On 18 November, a dense mature swarm \\xef\\xac\\x82 ew   over Mandera (0356N/4151E) in the North Eastern  Province near the borders of Ethiopia and Somalia.   There were several reports during the next few days  of at least one swarm of about 8 km2 in size that  dispersed in the Mandera area and was laying eggs.  There were also reports of egg laying further south  near Elwak (0249N/4056E) and an unconfirmed  report near Wajir (0144N/4003E). Some crop damage  occurred along the Dawa River.', 'FORECAST Hatching will occur in the northeast during the  second week of December and small bands will  form, giving rise to small swarms by mid January.  New swarms could appear from the north after mid- December.'), 'Niger': ('SITUATION During November, isolated immature solitarious  adults were seen near Tahoua (1457N/0519E) and  Arlit (1843N/0721E). Isolated solitarious late instar  hoppers and immature and mature adults were  present in the southeastern Air Mountains, and a  group of immature adults was seen in the same area  at Azangara (1705N/0854E) on the 13th.', 'FORECAST Low numbers of locusts are likely to persist in parts   of the Air Mountains and perhaps breed if conditions  become favourable.')}\n"
     ]
    }
   ],
   "source": [
    "print(b)"
   ]
  },
  {
   "cell_type": "code",
   "execution_count": 5,
   "metadata": {},
   "outputs": [
    {
     "name": "stdout",
     "output_type": "stream",
     "text": [
      "SITUATION No locusts were seen during surveys carried out  at the end of November in the southwest near Ghat  (2459N/1011E) and in the southeast near Kufra  (2411N/2315E).\n",
      "Libyan Arab Jamahiriya\n",
      "{'small': 0, 'large': 0, 'medium': 0, 'no': 0, 'swarm': 0}\n",
      "SITUATION No reports received.\n",
      "Afghanistan\n",
      "{'small': 0, 'large': 0, 'medium': 0, 'no': 0, 'swarm': 0}\n",
      "SITUATION During November, isolated adults were laying eggs   on the northern Red Sea coast between Mehimet  (1723N/3833E) and Karora (1745N/3820E) during the  first and last weeks of the month.  a few places along the northwest coast near Bulhar  (1023N/4425E) and Berbera (1028N/4502E). A 6 km2  medium density mature swarm was reported just east  of Berbera on the 24th. No locusts were seen on the  plateau between Hargeisa (0931N/4402E) and Burao  (0931N/4533E).  No locusts were seen during surveys carried out in   In the centre and south, medium and high density   the western lowlands.\n",
      "Eritrea\n",
      "{'small': 0, 'large': 0, 'medium': 2, 'no': 0, 'swarm': 1}\n",
      "SITUATION In the summer breeding areas, groups of immature   and mature solitarious, transiens and gregarious  adults formed at densities up to 30,000 adults/ha in  North Kordofan State between Sodiri (1423N/2906E),  Wadi Milk and the Baiyuda Desert. Similar groups  and a few dozen low-density swarms up to 5 km2  in size formed on the western side of the Red Sea  Hills near Haiya (1820N/3621E) and to a lesser  extent along the Atbara and Nile rivers. Groups and  bands of late instar hoppers and ﬂ edglings were  present in a few places in the Baiyuda Desert south  of Merowe (1830N/3149E), and mature adults were  seen laying further north along the Nile near Dongola  (1910N/3027E). During the third week, some of these  swarms moved east to the Tokar Delta on the Red  Sea coast where they were copulating, while other  swarms moved northwest to the Egyptian border at  Wadi Halfa (2147N/3122E) and northeast to Wadi Oko  near Tomala (2002N/3551E).  In the winter breeding areas, numerous very small   late instar hopper bands were present and ﬂ edging  near the Egyptian border in Wadi Diib, giving rise to  a few a small swarms by the third week. Groups of  mature adults were also present nearby, and adults  were seen on the coast north of Port Sudan. Breeding  continued in the Tokar Delta where groups of mature       adults were present and hoppers formed small groups  and bands. A low-density swarm was seen laying on  the 19th.  Ground control teams treated 28,446 ha up to   23 November. Although it was indicated in Bulletin  349 that Metarhizium was used in October, this was  incorrect.Forecast Locust numbers will decline in the summer breeding   areas of the interior as vegetation dries out and the  remaining populations form small groups and swarms  that will move in December towards the Red Sea  coast. Consequently, locust numbers will increase on  the coast, mainly in Tokar Delta, and in subcoastal  areas in the north (W. Oko/Diib). Breeding will  continue in these areas where hoppers and adults will  form small groups, bands and perhaps a few swarms.  the second week of November and numerous dense,  small early instar hopper bands formed north of the  Shebele River in Korahe and Warder zones. A few  late instar bands were seen in third week from earlier  hatching. Many of the infestations were concentrated  between Warder (0658N/4520E) and the Somali  border.  Control operations treated 1,707 ha from 9-23  November of which 1,400 ha were treated by air.\n",
      "Sudan\n",
      "{'small': 6, 'large': 0, 'medium': 0, 'no': 0, 'swarm': 1}\n",
      "SITUATION On 31 October, second and third instar hopper   bands were present at 7 places in the eastern  Ogaden, east of Warder (0658N/4520E). Ground  control operations were undertaken at four of these  places, treating 40 ha.  During November, several mature swarms   continued to move south in the Ogaden and laid eggs,  reaching the Shebele River at Gode (0557N/4333E)  on the 9th, Dolo (0410N/4203E) on the 16th and  crossing the Dawa River into northeast Kenya on the  18th. There were also reports of a few swarms further  west along the eastern side of the Harar Highlands.  Eggs that were laid in October mainly hatched during  page 4 of   9  groups of solitarious and transiens late instar hoppers  were seen during the second week east of Garowe  (0824N/4828E) and near Galkayo (0646N/4725E).  A small low-density mature swarm was seen further  south near the Ethiopian border at Belet Weyne  (0444N/4512E). In the following week, there was an  unconfirmed report of locusts in the southern regions  of Bay and Bakool, and a swarm was seen on the  20th moving from Qansahdere (0252N/4300E) west  towards the Gedo region and the Kenyan border.\n",
      "Ethiopia\n",
      "{'small': 1, 'large': 0, 'medium': 0, 'no': 0, 'swarm': 2}\n",
      ".SITUATION During November, isolated adults were laying eggs   on the northern Red Sea coast between Mehimet  (1723N/3833E) and Karora (1745N/3820E) during the  first and last weeks of the month.  a few places along the northwest coast near Bulhar  (1023N/4425E) and Berbera (1028N/4502E). A 6 km2  medium density mature swarm was reported just east  of Berbera on the 24th. No locusts were seen on the  plateau between Hargeisa (0931N/4402E) and Burao  (0931N/4533E).  No locusts were seen during surveys carried out in   In the centre and south, medium and high density   the western lowlands.\n",
      "Somalia\n",
      "{'small': 0, 'large': 0, 'medium': 2, 'no': 0, 'swarm': 1}\n",
      "SITUATION No reports were received during November.\n",
      "Saudi Arabia\n",
      "{'small': 0, 'large': 0, 'medium': 0, 'no': 0, 'swarm': 0}\n",
      "SITUATION During November, low numbers of solitarious   immature and mature adults were present on the  southeastern coast near Chabahar (2517N/6036E),  and isolated hoppers of all instars were seen at a few  places nearby. No locusts were seen elsewhere along  the coast near Jask (2540N/5746E) and Bander-e  Lengheh (2634N/5452E).\n",
      "Iran\n",
      "{'small': 0, 'large': 0, 'medium': 0, 'no': 0, 'swarm': 0}\n",
      "SITUATION No reports were received during November.\n",
      "Algeria\n",
      "{'small': 0, 'large': 0, 'medium': 0, 'no': 0, 'swarm': 0}\n",
      "SITUATION No surveys were carried out and no locusts were   reported during November.\n",
      "Senegal\n",
      "{'small': 0, 'large': 0, 'medium': 0, 'no': 1, 'swarm': 0}\n",
      "SITUATION During November, locust numbers increased   steadily because of small-scale breeding and  hatching in northern Brakna, northeastern Trarza,  Tagant and southwestern Adrar where scattered  solitarious hoppers and adults were present. By the  20th, densities had reached up to 3,000 hoppers/ ha and 3,500 adults/ha and, in a few places, up to  four late instar hoppers/bush and one first instar  hopper/m2 were seen. Laying was also in progress in  southwestern Adrar. No locusts were seen in Hodh  Ech Chargui except for scattered mature adults at one  place east of Nema (1636N/0715W).\n",
      "Mauritania\n",
      "{'small': 0, 'large': 0, 'medium': 0, 'no': 0, 'swarm': 0}\n",
      "SITUATION No locusts were seen during surveys carried out on   the Musandam Peninsula during November.\n",
      "Oman\n",
      "{'small': 0, 'large': 0, 'medium': 0, 'no': 0, 'swarm': 0}\n",
      "SITUATION During November, isolated solitarious locusts were  reported on the 16th in the central part of the Adrar des  Iforas near Etambar (1827N/0124E).\n",
      "Mali\n",
      "{'small': 0, 'large': 0, 'medium': 0, 'no': 0, 'swarm': 0}\n",
      "SITUATION During November, low numbers of scattered   solitarious and transiens immature and mature adults  persisted along the Red Sea coastal plains between  Zabid (1410N/4318E) and Midi (1619N/4248E) and  on the coastal plains west of Aden (1250N/4503E).  Small-scale breeding occurred in both areas where  isolated solitarious and transiens hoppers were  present. Hopper densities were slightly higher, up to  4 hoppers/m2, on the Gulf of Aden coast near Lahij  (1303N/4453E).\n",
      "Yemen\n",
      "{'small': 0, 'large': 0, 'medium': 0, 'no': 0, 'swarm': 0}\n",
      "SITUATION A late report indicated that ground control   operations were carried out in the spring breeding  areas in Baluchistan against 700 ha of fifth instar  hoppers, ﬂ edglings and immature adults near  Kharan (2832N/6526E) on 26-31 October. Two small  immature swarms were treated on 2 and 6 November,  covering 250 ha.  In the summer breeding areas, locust numbers   continued to decline during the first half of November  in the Cholistan Desert, and only isolated mature  adults remained near the Indian border southeast  of Rahimyar Khan (2822N/7020E) and Bahawalpur  (2924N/7147E).  No locusts were reported during the second half of   November.\n",
      "Pakistan\n",
      "{'small': 1, 'large': 0, 'medium': 0, 'no': 0, 'swarm': 0}\n",
      "SITUATION No reports were received during November.\n",
      "Chad\n",
      "{'small': 0, 'large': 0, 'medium': 0, 'no': 0, 'swarm': 0}\n",
      "SITUATION During the last week of October, moderate densities   of solitarious adults were present in the southwest  near Jebel Uweinat (2154N/2458E).  During the first half of November, small-scale   breeding occurred in Wadi Diib near the Red Sea  coast and the Sudanese border where solitarious first  to fourth instar hoppers were seen early in the month.  Scattered immature and mature adults were present  on the Red Sea coastal plains near Abu Ramad  (2224N/3624E), in the Red Sea Hills near W. Allaqi  and along the Lake Nasser shoreline between Abu  Simbel (2219N/3138E) and Aswan (2405N/3256E).  Some of the adults were transiens and forming small  groups.   During the second half of the month, solitarious  and transiens adults appeared further north on the  Red Sea coast near Berenice (2359N/3524E), in the  Red Sea Hills west of Marsa Alam (2504N/3454E)  and there was a report of immature transiens adults  in Cairo. Adults were also seen in the Western Desert  north of Tushka (2247N/3126E), and mature groups  were present at Farafra oasis (2710N/2818E). Control  operations were carried out in most of these areas,  treating 168 ha up to the 26th. At the end of the  month, there was an unconfirmed report of gregarious  immature adults in the southwest near Jebel Uweinat.\n",
      "Egypt\n",
      "{'small': 1, 'large': 0, 'medium': 0, 'no': 0, 'swarm': 0}\n",
      "SITUATION No locusts were seen during surveys carried out  in Rajasthan and Gujarat during the second half of  October and in November.\n",
      "India\n",
      "{'small': 0, 'large': 0, 'medium': 0, 'no': 0, 'swarm': 0}\n",
      "SITUATION No surveys were carried out and no locusts were   reported during November.\n",
      "Tunisia\n",
      "{'small': 0, 'large': 0, 'medium': 0, 'no': 1, 'swarm': 0}\n",
      "SITUATION No reports were received during November.\n",
      "Djibouti\n",
      "{'small': 0, 'large': 0, 'medium': 0, 'no': 0, 'swarm': 0}\n",
      "SITUATION On 18 November, a dense mature swarm ﬂ ew   over Mandera (0356N/4151E) in the North Eastern  Province near the borders of Ethiopia and Somalia.   There were several reports during the next few days  of at least one swarm of about 8 km2 in size that  dispersed in the Mandera area and was laying eggs.  There were also reports of egg laying further south  near Elwak (0249N/4056E) and an unconfirmed  report near Wajir (0144N/4003E). Some crop damage  occurred along the Dawa River.\n",
      "Kenya\n",
      "{'small': 0, 'large': 0, 'medium': 0, 'no': 0, 'swarm': 2}\n",
      "SITUATION During November, isolated immature solitarious  adults were seen near Tahoua (1457N/0519E) and  Arlit (1843N/0721E). Isolated solitarious late instar  hoppers and immature and mature adults were  present in the southeastern Air Mountains, and a  group of immature adults was seen in the same area  at Azangara (1705N/0854E) on the 13th.\n",
      "Niger\n",
      "{'small': 0, 'large': 0, 'medium': 0, 'no': 0, 'swarm': 0}\n"
     ]
    }
   ],
   "source": [
    "keywords = ['small', 'medium', 'large', 'swarm','no']\n",
    "for k,v in b.iteritems():\n",
    "    country = k\n",
    "    situation = v[0]\n",
    "    situation.replace('x80', '')\n",
    "    print(situation)\n",
    "    forecast = v[1]\n",
    "    c = Counter(situation.split(' '))\n",
    "    counts = {word: c[word] for word in keywords}\n",
    "    print(country)\n",
    "    print(counts)\n",
    "\n",
    "    "
   ]
  },
  {
   "cell_type": "code",
   "execution_count": 10,
   "metadata": {},
   "outputs": [
    {
     "ename": "TypeError",
     "evalue": "'builtin_function_or_method' object has no attribute '__getitem__'",
     "output_type": "error",
     "traceback": [
      "\u001b[0;31m---------------------------------------------------------------------------\u001b[0m",
      "\u001b[0;31mTypeError\u001b[0m                                 Traceback (most recent call last)",
      "\u001b[0;32m<ipython-input-10-6eb6827c4db0>\u001b[0m in \u001b[0;36m<module>\u001b[0;34m()\u001b[0m\n\u001b[0;32m----> 1\u001b[0;31m \u001b[0mtext\u001b[0m \u001b[0;34m=\u001b[0m \u001b[0mb\u001b[0m\u001b[0;34m.\u001b[0m\u001b[0mget\u001b[0m\u001b[0;34m[\u001b[0m\u001b[0;36m0\u001b[0m\u001b[0;34m]\u001b[0m\u001b[0;34m\u001b[0m\u001b[0m\n\u001b[0m\u001b[1;32m      2\u001b[0m \u001b[0mtext2\u001b[0m \u001b[0;34m=\u001b[0m \u001b[0;34m[\u001b[0m\u001b[0;34m\"the quick brown fox jumped over the lazy dog\"\u001b[0m\u001b[0;34m]\u001b[0m\u001b[0;34m\u001b[0m\u001b[0m\n\u001b[1;32m      3\u001b[0m \u001b[0mtext\u001b[0m\u001b[0;34m\u001b[0m\u001b[0m\n",
      "\u001b[0;31mTypeError\u001b[0m: 'builtin_function_or_method' object has no attribute '__getitem__'"
     ]
    }
   ],
   "source": [
    "text = b.get[0]\n",
    "text2 = [\"the quick brown fox jumped over the lazy dog\"]\n",
    "text"
   ]
  },
  {
   "cell_type": "markdown",
   "metadata": {},
   "source": [
    "vectorizer.fit(text1)"
   ]
  },
  {
   "cell_type": "code",
   "execution_count": 7,
   "metadata": {},
   "outputs": [
    {
     "name": "stdout",
     "output_type": "stream",
     "text": [
      "{u'and': 4, u'locusts': 12, u'1011e': 0, u'southeast': 20, u'ghat': 9, u'were': 24, u'at': 5, u'during': 7, u'in': 10, u'seen': 18, u'november': 15, u'out': 17, u'surveys': 22, u'end': 8, u'carried': 6, u'no': 14, u'of': 16, u'2459n': 3, u'2315e': 1, u'kufra': 11, u'near': 13, u'2411n': 2, u'situation': 19, u'the': 23, u'southwest': 21}\n",
      "(1, 25)\n",
      "<class 'scipy.sparse.csr.csr_matrix'>\n",
      "[[1 1 1 1 1 1 1 1 1 1 2 1 1 2 1 1 1 1 1 1 1 1 1 3 1]]\n"
     ]
    }
   ],
   "source": [
    "vectorizer = CountVectorizer()\n",
    "vectorizer.fit(text)\n",
    "print(vectorizer.vocabulary_)\n",
    "vector = vectorizer.transform(text)\n",
    "print(vector.shape)\n",
    "print(type(vector))\n",
    "print(vector.toarray())"
   ]
  },
  {
   "cell_type": "code",
   "execution_count": null,
   "metadata": {
    "collapsed": true
   },
   "outputs": [],
   "source": []
  }
 ],
 "metadata": {
  "kernelspec": {
   "display_name": "Python 2",
   "language": "python",
   "name": "python2"
  },
  "language_info": {
   "codemirror_mode": {
    "name": "ipython",
    "version": 2
   },
   "file_extension": ".py",
   "mimetype": "text/x-python",
   "name": "python",
   "nbconvert_exporter": "python",
   "pygments_lexer": "ipython2",
   "version": "2.7.13"
  }
 },
 "nbformat": 4,
 "nbformat_minor": 2
}
